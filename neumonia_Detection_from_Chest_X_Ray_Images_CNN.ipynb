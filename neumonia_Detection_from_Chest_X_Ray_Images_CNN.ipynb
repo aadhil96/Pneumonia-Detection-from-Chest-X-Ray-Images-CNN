{
  "nbformat": 4,
  "nbformat_minor": 0,
  "metadata": {
    "colab": {
      "name": "neumonia Detection from Chest X-Ray Images CNN",
      "provenance": [],
      "authorship_tag": "ABX9TyORkW/oEZqRusDMArkvAlMl",
      "include_colab_link": true
    },
    "kernelspec": {
      "name": "python3",
      "display_name": "Python 3"
    },
    "accelerator": "GPU"
  },
  "cells": [
    {
      "cell_type": "markdown",
      "metadata": {
        "id": "view-in-github",
        "colab_type": "text"
      },
      "source": [
        "<a href=\"https://colab.research.google.com/github/aadhil96/pneumonia-Detection-from-Chest-X-Ray-Images-CNN/blob/main/neumonia_Detection_from_Chest_X_Ray_Images_CNN.ipynb\" target=\"_parent\"><img src=\"https://colab.research.google.com/assets/colab-badge.svg\" alt=\"Open In Colab\"/></a>"
      ]
    },
    {
      "cell_type": "code",
      "metadata": {
        "id": "FhsFSsigZtIQ"
      },
      "source": [
        "! pip install -q kaggle"
      ],
      "execution_count": 1,
      "outputs": []
    },
    {
      "cell_type": "code",
      "metadata": {
        "colab": {
          "resources": {
            "http://localhost:8080/nbextensions/google.colab/files.js": {
              "data": "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",
              "ok": true,
              "headers": [
                [
                  "content-type",
                  "application/javascript"
                ]
              ],
              "status": 200,
              "status_text": "OK"
            }
          },
          "base_uri": "https://localhost:8080/",
          "height": 92
        },
        "id": "yNYmjiFEZw7k",
        "outputId": "55fda70e-2cd5-4922-f7df-e48738168215"
      },
      "source": [
        "from google.colab import files\r\n",
        "files.upload()"
      ],
      "execution_count": 2,
      "outputs": [
        {
          "output_type": "display_data",
          "data": {
            "text/html": [
              "\n",
              "     <input type=\"file\" id=\"files-9eb4ef94-07f9-4200-b957-3e9115a796c8\" name=\"files[]\" multiple disabled\n",
              "        style=\"border:none\" />\n",
              "     <output id=\"result-9eb4ef94-07f9-4200-b957-3e9115a796c8\">\n",
              "      Upload widget is only available when the cell has been executed in the\n",
              "      current browser session. Please rerun this cell to enable.\n",
              "      </output>\n",
              "      <script src=\"/nbextensions/google.colab/files.js\"></script> "
            ],
            "text/plain": [
              "<IPython.core.display.HTML object>"
            ]
          },
          "metadata": {
            "tags": []
          }
        },
        {
          "output_type": "stream",
          "text": [
            "Saving kaggle.json to kaggle.json\n"
          ],
          "name": "stdout"
        },
        {
          "output_type": "execute_result",
          "data": {
            "text/plain": [
              "{'kaggle.json': b'{\"username\":\"aadhilimam\",\"key\":\"5229a84b438c67382805cf0403396ae9\"}'}"
            ]
          },
          "metadata": {
            "tags": []
          },
          "execution_count": 2
        }
      ]
    },
    {
      "cell_type": "code",
      "metadata": {
        "id": "-MGmx_DtZ-Hx"
      },
      "source": [
        "!mkdir -p ~/.kaggle\r\n",
        "!cp kaggle.json ~/.kaggle/\r\n",
        "!chmod 600 ~/.kaggle/kaggle.json"
      ],
      "execution_count": null,
      "outputs": []
    },
    {
      "cell_type": "code",
      "metadata": {
        "colab": {
          "base_uri": "https://localhost:8080/"
        },
        "id": "BrpbxX9FaBnE",
        "outputId": "84844c05-7fc3-4a2b-9fd2-d66406311e0d"
      },
      "source": [
        "! kaggle datasets download -d paultimothymooney/chest-xray-pneumonia"
      ],
      "execution_count": 4,
      "outputs": [
        {
          "output_type": "stream",
          "text": [
            "Downloading chest-xray-pneumonia.zip to /content\n",
            "100% 2.29G/2.29G [00:32<00:00, 53.9MB/s]\n",
            "100% 2.29G/2.29G [00:32<00:00, 76.7MB/s]\n"
          ],
          "name": "stdout"
        }
      ]
    },
    {
      "cell_type": "code",
      "metadata": {
        "id": "9ccViLdAaaQm"
      },
      "source": [
        "import zipfile\r\n",
        "zip_ref = zipfile.ZipFile('chest-xray-pneumonia.zip', 'r')\r\n",
        "zip_ref.extractall('files')\r\n",
        "zip_ref.close()"
      ],
      "execution_count": 5,
      "outputs": []
    },
    {
      "cell_type": "code",
      "metadata": {
        "id": "_BLIyPAxan61"
      },
      "source": [
        "# Basics\r\n",
        "import numpy as np \r\n",
        "import pandas as pd\r\n",
        "import os\r\n",
        "\r\n",
        "# Visualization\r\n",
        "import matplotlib.pyplot as plt\r\n",
        "import seaborn as sns\r\n",
        "\r\n",
        "# Deep Learning\r\n",
        "import keras\r\n",
        "import tensorflow as tf\r\n",
        "from keras.models import Sequential\r\n",
        "from keras.layers import Dense,  SeparableConv2D, Conv2D , MaxPool2D , Flatten , Dropout , BatchNormalization\r\n",
        "from keras.preprocessing.image import ImageDataGenerator\r\n",
        "from sklearn.model_selection import train_test_split\r\n",
        "from sklearn.metrics import classification_report,confusion_matrix\r\n",
        "from keras.callbacks import ReduceLROnPlateau\r\n",
        "import cv2"
      ],
      "execution_count": 6,
      "outputs": []
    },
    {
      "cell_type": "code",
      "metadata": {
        "colab": {
          "base_uri": "https://localhost:8080/"
        },
        "id": "4JhTyAbYaw7E",
        "outputId": "958db8e1-707e-46d2-a49b-11c1e2907fec"
      },
      "source": [
        "#Reading the images with larger size might take longer\r\n",
        "labels = ['PNEUMONIA', 'NORMAL']\r\n",
        "img_size = 200\r\n",
        "#Setting to 1200 might help. For memory concern, I set it to 200.\r\n",
        "def get_data(data_dir):\r\n",
        "    data = []\r\n",
        "    for label in labels:\r\n",
        "        path = os.path.join(data_dir, label)\r\n",
        "        class_num = labels.index(label)\r\n",
        "        for img in os.listdir(path):\r\n",
        "            try:\r\n",
        "                # I really tried to keep the RGB. But Kaggle keeps throwing memory error.\r\n",
        "                # I also tried to keep image size larger. Kaggle keeps throwing memory error in data augmentation.\r\n",
        "                # So I set img size to 200 and read in the images with grayscale. \r\n",
        "                img_arr = cv2.imread(os.path.join(path, img), cv2.IMREAD_GRAYSCALE)\r\n",
        "                resized_arr = cv2.resize(img_arr, (img_size, img_size))\r\n",
        "                data.append([resized_arr, class_num])\r\n",
        "            except Exception as e:\r\n",
        "                print(e)\r\n",
        "    return np.array(data)\r\n",
        "train = get_data('/content/files/chest_xray/chest_xray/train')\r\n",
        "test = get_data('/content/files/chest_xray/chest_xray/test')\r\n",
        "val = get_data('/content/files/chest_xray/chest_xray/val')"
      ],
      "execution_count": 7,
      "outputs": [
        {
          "output_type": "stream",
          "text": [
            "OpenCV(4.1.2) /io/opencv/modules/imgproc/src/resize.cpp:3720: error: (-215:Assertion failed) !ssize.empty() in function 'resize'\n",
            "\n",
            "OpenCV(4.1.2) /io/opencv/modules/imgproc/src/resize.cpp:3720: error: (-215:Assertion failed) !ssize.empty() in function 'resize'\n",
            "\n"
          ],
          "name": "stdout"
        },
        {
          "output_type": "stream",
          "text": [
            "/usr/local/lib/python3.7/dist-packages/ipykernel_launcher.py:20: VisibleDeprecationWarning: Creating an ndarray from ragged nested sequences (which is a list-or-tuple of lists-or-tuples-or ndarrays with different lengths or shapes) is deprecated. If you meant to do this, you must specify 'dtype=object' when creating the ndarray\n"
          ],
          "name": "stderr"
        },
        {
          "output_type": "stream",
          "text": [
            "OpenCV(4.1.2) /io/opencv/modules/imgproc/src/resize.cpp:3720: error: (-215:Assertion failed) !ssize.empty() in function 'resize'\n",
            "\n",
            "OpenCV(4.1.2) /io/opencv/modules/imgproc/src/resize.cpp:3720: error: (-215:Assertion failed) !ssize.empty() in function 'resize'\n",
            "\n"
          ],
          "name": "stdout"
        }
      ]
    },
    {
      "cell_type": "code",
      "metadata": {
        "id": "otUsen_bbdqe"
      },
      "source": [
        "#Routines for feature label separation.\r\n",
        "#Put the features into a list of arrays.\r\n",
        "#Put the label into y variable.\r\n",
        "x_train = []\r\n",
        "y_train = []\r\n",
        "\r\n",
        "x_val = []\r\n",
        "y_val = []\r\n",
        "\r\n",
        "x_test = []\r\n",
        "y_test = []\r\n",
        "\r\n",
        "for feature, label in train:\r\n",
        "    x_train.append(feature)\r\n",
        "    y_train.append(label)\r\n",
        "\r\n",
        "for feature, label in test:\r\n",
        "    x_test.append(feature)\r\n",
        "    y_test.append(label)\r\n",
        "    \r\n",
        "for feature, label in val:\r\n",
        "    x_val.append(feature)\r\n",
        "    y_val.append(label)\r\n",
        "    \r\n",
        "#del train\r\n",
        "#del test\r\n",
        "#del val"
      ],
      "execution_count": 8,
      "outputs": []
    },
    {
      "cell_type": "code",
      "metadata": {
        "id": "zpCPAE1AcE5t"
      },
      "source": [
        "#Normalize Images\r\n",
        "def normalize_image(img_set):\r\n",
        "    img_set = np.array(img_set)/255\r\n",
        "    return img_set\r\n",
        "x_train = normalize_image(x_train)\r\n",
        "x_val = normalize_image(x_val)\r\n",
        "x_test = normalize_image(x_test)\r\n",
        "\r\n",
        "#Resize for transfer learning \r\n",
        "def train_reshape(img_set):\r\n",
        "    img_set = img_set.reshape(-1,img_size, img_size, 1)\r\n",
        "    return img_set\r\n",
        "x_train = train_reshape(x_train)\r\n",
        "x_val = train_reshape(x_val)\r\n",
        "x_test = train_reshape(x_test)\r\n",
        "\r\n",
        "y_train = np.array(y_train)\r\n",
        "y_val = np.array(y_val)\r\n",
        "y_test = np.array(y_test)"
      ],
      "execution_count": 9,
      "outputs": []
    },
    {
      "cell_type": "code",
      "metadata": {
        "id": "KWUqBZaScJe9"
      },
      "source": [
        "# We try to increase the train set with augmentation as much as possible. \r\n",
        "# However, rotation might influence the prediction.\r\n",
        "datagen = ImageDataGenerator(\r\n",
        "        zoom_range = 0.2, # Randomly zoom image \r\n",
        "        width_shift_range=0.05,  # randomly shift images horizontally (fraction of total width)\r\n",
        "        horizontal_flip = False) # I set this to true at first. It is horrible for the model to detect.\r\n",
        "datagen.fit(x_train)"
      ],
      "execution_count": 10,
      "outputs": []
    },
    {
      "cell_type": "code",
      "metadata": {
        "id": "p7TNLhn1cQA8"
      },
      "source": [
        "import tensorflow as tf\r\n",
        "from tensorflow.keras.models import Sequential\r\n",
        "from tensorflow.keras.callbacks import EarlyStopping\r\n",
        "from tensorflow.keras.layers import Conv2D, Dense, Dropout, Flatten,BatchNormalization, GlobalAveragePooling2D\r\n",
        "from tensorflow.keras.optimizers import RMSprop\r\n",
        "from keras.applications import *\r\n",
        "from keras.models import Model\r\n",
        "import keras"
      ],
      "execution_count": 11,
      "outputs": []
    },
    {
      "cell_type": "code",
      "metadata": {
        "id": "kevSL3mEhFUm"
      },
      "source": [
        "monitor = EarlyStopping(monitor='val_loss', min_delta=1e-4, patience=10, verbose=1, mode='auto',\r\n",
        "        restore_best_weights=True)\r\n",
        "\r\n",
        "learning_rate_reduction = ReduceLROnPlateau(monitor='val_accuracy', patience = 5, verbose=1,factor=0.3, mode=\"max\")\r\n",
        "\r\n",
        "callback_list = [monitor, learning_rate_reduction]"
      ],
      "execution_count": 20,
      "outputs": []
    },
    {
      "cell_type": "code",
      "metadata": {
        "colab": {
          "base_uri": "https://localhost:8080/"
        },
        "id": "_KngoaBIhFZR",
        "outputId": "7e98c81f-9dbc-44c6-8b46-d73f1a38897a"
      },
      "source": [
        "input_layer = tf.keras.layers.Input([200,200,1])\r\n",
        "\r\n",
        "conv1 = tf.keras.layers.Conv2D(filters = 32 , kernel_size = (5,5) , padding ='Same',\r\n",
        "        activation='relu')(input_layer)\r\n",
        "pool1 = tf.keras.layers.MaxPooling2D(pool_size=(2,2))( conv1)\r\n",
        "\r\n",
        "conv2 = tf.keras.layers.Conv2D(filters = 64 , kernel_size = (3,3) , padding ='Same',\r\n",
        "        activation='relu')(pool1)\r\n",
        "pool2 = tf.keras.layers.MaxPooling2D(pool_size=(2,2) , strides=(2,2))(conv2)\r\n",
        "\r\n",
        "conv3 = tf.keras.layers.Conv2D(filters = 96 , kernel_size = (3,3) , padding ='Same',\r\n",
        "        activation='relu')(pool2)\r\n",
        "pool3 = tf.keras.layers.MaxPooling2D(pool_size=(2,2) , strides=(2,2))(conv3)\r\n",
        "\r\n",
        "conv4 = tf.keras.layers.Conv2D(filters = 96 , kernel_size = (3,3) , padding ='Same',\r\n",
        "        activation='relu')(pool3)\r\n",
        "pool4 = tf.keras.layers.MaxPooling2D(pool_size=(2,2) , strides=(2,2))(conv4)\r\n",
        "\r\n",
        "flatten = tf.keras.layers.Flatten()(pool4)\r\n",
        "dense = tf.keras.layers.Dense(512 , activation = 'relu')(flatten)\r\n",
        "out = tf.keras.layers.Dense(1 , activation='sigmoid' )(dense)\r\n",
        "\r\n",
        "model = tf.keras.Model(input_layer , out)\r\n",
        "\r\n",
        "model.compile(loss = 'binary_crossentropy', optimizer='adam', metrics = ['accuracy'])\r\n",
        "history = model.fit(datagen.flow(x_train,y_train, batch_size = 8) ,epochs = 30 , \\\r\n",
        "                    validation_data = datagen.flow(x_val, y_val) , callbacks = callback_list )"
      ],
      "execution_count": 21,
      "outputs": [
        {
          "output_type": "stream",
          "text": [
            "Epoch 1/30\n",
            "652/652 [==============================] - 17s 26ms/step - loss: 0.5001 - accuracy: 0.7873 - val_loss: 0.7800 - val_accuracy: 0.6250\n",
            "Epoch 2/30\n",
            "652/652 [==============================] - 16s 25ms/step - loss: 0.2445 - accuracy: 0.9025 - val_loss: 1.0380 - val_accuracy: 0.5625\n",
            "Epoch 3/30\n",
            "652/652 [==============================] - 16s 25ms/step - loss: 0.2065 - accuracy: 0.9139 - val_loss: 0.9343 - val_accuracy: 0.6250\n",
            "Epoch 4/30\n",
            "652/652 [==============================] - 16s 25ms/step - loss: 0.1857 - accuracy: 0.9283 - val_loss: 0.8379 - val_accuracy: 0.6875\n",
            "Epoch 5/30\n",
            "652/652 [==============================] - 16s 25ms/step - loss: 0.1706 - accuracy: 0.9320 - val_loss: 0.7430 - val_accuracy: 0.8750\n",
            "Epoch 6/30\n",
            "652/652 [==============================] - 17s 25ms/step - loss: 0.1473 - accuracy: 0.9482 - val_loss: 2.6421 - val_accuracy: 0.6250\n",
            "Epoch 7/30\n",
            "652/652 [==============================] - 17s 25ms/step - loss: 0.1428 - accuracy: 0.9427 - val_loss: 0.6659 - val_accuracy: 0.6875\n",
            "Epoch 8/30\n",
            "652/652 [==============================] - 16s 25ms/step - loss: 0.1278 - accuracy: 0.9510 - val_loss: 1.1289 - val_accuracy: 0.6875\n",
            "Epoch 9/30\n",
            "652/652 [==============================] - 17s 25ms/step - loss: 0.1239 - accuracy: 0.9540 - val_loss: 0.5829 - val_accuracy: 0.7500\n",
            "Epoch 10/30\n",
            "652/652 [==============================] - 17s 26ms/step - loss: 0.1083 - accuracy: 0.9608 - val_loss: 0.5080 - val_accuracy: 0.7500\n",
            "\n",
            "Epoch 00010: ReduceLROnPlateau reducing learning rate to 0.0003000000142492354.\n",
            "Epoch 11/30\n",
            "652/652 [==============================] - 17s 26ms/step - loss: 0.0897 - accuracy: 0.9640 - val_loss: 1.1752 - val_accuracy: 0.6875\n",
            "Epoch 12/30\n",
            "652/652 [==============================] - 17s 26ms/step - loss: 0.0742 - accuracy: 0.9718 - val_loss: 0.8358 - val_accuracy: 0.7500\n",
            "Epoch 13/30\n",
            "652/652 [==============================] - 17s 26ms/step - loss: 0.0700 - accuracy: 0.9737 - val_loss: 0.6946 - val_accuracy: 0.6250\n",
            "Epoch 14/30\n",
            "652/652 [==============================] - 16s 25ms/step - loss: 0.0669 - accuracy: 0.9720 - val_loss: 0.8922 - val_accuracy: 0.6875\n",
            "Epoch 15/30\n",
            "652/652 [==============================] - 16s 25ms/step - loss: 0.0678 - accuracy: 0.9773 - val_loss: 0.7827 - val_accuracy: 0.7500\n",
            "\n",
            "Epoch 00015: ReduceLROnPlateau reducing learning rate to 9.000000427477062e-05.\n",
            "Epoch 16/30\n",
            "652/652 [==============================] - 16s 25ms/step - loss: 0.0566 - accuracy: 0.9789 - val_loss: 0.6639 - val_accuracy: 0.6875\n",
            "Epoch 17/30\n",
            "652/652 [==============================] - 17s 26ms/step - loss: 0.0490 - accuracy: 0.9828 - val_loss: 0.4372 - val_accuracy: 0.7500\n",
            "Epoch 18/30\n",
            "652/652 [==============================] - 17s 26ms/step - loss: 0.0500 - accuracy: 0.9814 - val_loss: 0.8662 - val_accuracy: 0.7500\n",
            "Epoch 19/30\n",
            "652/652 [==============================] - 17s 26ms/step - loss: 0.0570 - accuracy: 0.9785 - val_loss: 0.6953 - val_accuracy: 0.7500\n",
            "Epoch 20/30\n",
            "652/652 [==============================] - 17s 26ms/step - loss: 0.0451 - accuracy: 0.9832 - val_loss: 0.5328 - val_accuracy: 0.7500\n",
            "\n",
            "Epoch 00020: ReduceLROnPlateau reducing learning rate to 2.700000040931627e-05.\n",
            "Epoch 21/30\n",
            "652/652 [==============================] - 17s 25ms/step - loss: 0.0534 - accuracy: 0.9803 - val_loss: 0.3253 - val_accuracy: 0.7500\n",
            "Epoch 22/30\n",
            "652/652 [==============================] - 17s 25ms/step - loss: 0.0427 - accuracy: 0.9826 - val_loss: 0.4462 - val_accuracy: 0.8125\n",
            "Epoch 23/30\n",
            "652/652 [==============================] - 17s 25ms/step - loss: 0.0497 - accuracy: 0.9821 - val_loss: 0.1724 - val_accuracy: 0.9375\n",
            "Epoch 24/30\n",
            "652/652 [==============================] - 17s 26ms/step - loss: 0.0445 - accuracy: 0.9819 - val_loss: 0.7243 - val_accuracy: 0.8125\n",
            "Epoch 25/30\n",
            "652/652 [==============================] - 17s 26ms/step - loss: 0.0490 - accuracy: 0.9822 - val_loss: 0.9055 - val_accuracy: 0.7500\n",
            "Epoch 26/30\n",
            "652/652 [==============================] - 17s 26ms/step - loss: 0.0407 - accuracy: 0.9816 - val_loss: 1.0808 - val_accuracy: 0.7500\n",
            "Epoch 27/30\n",
            "652/652 [==============================] - 17s 26ms/step - loss: 0.0435 - accuracy: 0.9851 - val_loss: 0.5461 - val_accuracy: 0.8125\n",
            "Epoch 28/30\n",
            "652/652 [==============================] - 17s 26ms/step - loss: 0.0430 - accuracy: 0.9849 - val_loss: 0.3262 - val_accuracy: 0.8750\n",
            "\n",
            "Epoch 00028: ReduceLROnPlateau reducing learning rate to 8.100000013655517e-06.\n",
            "Epoch 29/30\n",
            "652/652 [==============================] - 17s 26ms/step - loss: 0.0398 - accuracy: 0.9843 - val_loss: 0.5644 - val_accuracy: 0.7500\n",
            "Epoch 30/30\n",
            "652/652 [==============================] - 17s 26ms/step - loss: 0.0373 - accuracy: 0.9874 - val_loss: 0.6732 - val_accuracy: 0.8750\n"
          ],
          "name": "stdout"
        }
      ]
    },
    {
      "cell_type": "code",
      "metadata": {
        "colab": {
          "base_uri": "https://localhost:8080/",
          "height": 350
        },
        "id": "FseG84kfh6FO",
        "outputId": "37047d44-3e0e-461c-a2f8-2bc7f5bb5c38"
      },
      "source": [
        "epochs = [i for i in range(30)]\r\n",
        "fig , ax = plt.subplots(1,2)\r\n",
        "train_acc = history.history['accuracy']\r\n",
        "train_loss = history.history['loss']\r\n",
        "val_acc = history.history['val_accuracy']\r\n",
        "val_loss = history.history['val_loss']\r\n",
        "fig.set_size_inches(15,5)\r\n",
        "\r\n",
        "ax[0].plot(epochs , train_acc  , label = 'Training Accuracy')\r\n",
        "ax[0].plot(epochs , val_acc  , label = 'Validation Accuracy')\r\n",
        "ax[0].set_title('Training & Validation Accuracy')\r\n",
        "ax[0].legend()\r\n",
        "ax[0].set_xlabel(\"Epochs\")\r\n",
        "ax[0].set_ylabel(\"Accuracy\")\r\n",
        "\r\n",
        "ax[1].plot(epochs , train_loss  , label = 'Training Loss')\r\n",
        "ax[1].plot(epochs , val_loss  , label = 'Validation Loss')\r\n",
        "ax[1].set_title('Testing Accuracy & Loss')\r\n",
        "ax[1].legend()\r\n",
        "ax[1].set_xlabel(\"Epochs\")\r\n",
        "ax[1].set_ylabel(\"Training & Validation Loss\")\r\n",
        "plt.show()"
      ],
      "execution_count": 22,
      "outputs": [
        {
          "output_type": "display_data",
          "data": {
            "image/png": "[encoded data removed]",
            "text/plain": [
              "<Figure size 1080x360 with 2 Axes>"
            ]
          },
          "metadata": {
            "tags": [],
            "needs_background": "light"
          }
        }
      ]
    },
    {
      "cell_type": "code",
      "metadata": {
        "colab": {
          "base_uri": "https://localhost:8080/"
        },
        "id": "_StWmUT7l21d",
        "outputId": "f343209f-3ce2-481d-c824-681efcc7e5c7"
      },
      "source": [
        "print(\"Loss \" , model.evaluate(x_test,y_test)[0])\r\n",
        "print(\"Accuracy\" , model.evaluate(x_test,y_test))"
      ],
      "execution_count": 23,
      "outputs": [
        {
          "output_type": "stream",
          "text": [
            "20/20 [==============================] - 1s 15ms/step - loss: 0.6510 - accuracy: 0.9022\n",
            "Loss  0.6509785056114197\n",
            "20/20 [==============================] - 0s 15ms/step - loss: 0.6510 - accuracy: 0.9022\n",
            "Accuracy [0.6509785056114197, 0.9022436141967773]\n"
          ],
          "name": "stdout"
        }
      ]
    },
    {
      "cell_type": "code",
      "metadata": {
        "id": "cnou-f3amYsX"
      },
      "source": [
        "model.save('Pneumonia.h5')"
      ],
      "execution_count": 24,
      "outputs": []
    }
  ]
}